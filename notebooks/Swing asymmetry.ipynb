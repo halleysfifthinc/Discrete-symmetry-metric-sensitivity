{
 "cells": [
  {
   "cell_type": "code",
   "execution_count": 1,
   "metadata": {},
   "outputs": [
    {
     "name": "stdout",
     "output_type": "stream",
     "text": [
      "Julia Version 1.6.2\n",
      "Commit 1b93d53fc4 (2021-07-14 15:36 UTC)\n",
      "Platform Info:\n",
      "  OS: Linux (x86_64-linux-gnu)\n",
      "  CPU: AMD Ryzen 9 3900X 12-Core Processor\n",
      "  WORD_SIZE: 64\n",
      "  LIBM: libopenlibm\n",
      "  LLVM: libLLVM-11.0.1 (ORCJIT, znver2)\n",
      "Environment:\n",
      "  JULIA_PKG_SERVER = pkg.julialang.org\n"
     ]
    }
   ],
   "source": [
    "versioninfo()"
   ]
  },
  {
   "cell_type": "code",
   "execution_count": null,
   "metadata": {},
   "outputs": [],
   "source": [
    "using Pkg; Pkg.activate(\"..\"); Pkg.instantiate();"
   ]
  },
  {
   "cell_type": "code",
   "execution_count": 3,
   "metadata": {},
   "outputs": [
    {
     "data": {
      "text/html": [
       "<script>\n",
       "// Immediately-invoked-function-expression to avoid global variables.\n",
       "(function() {\n",
       "    var warning_div = document.getElementById(\"webio-warning-17548410990528892050\");\n",
       "    var hide = function () {\n",
       "        var script = document.getElementById(\"webio-setup-16466571860003375651\");\n",
       "        var parent = script && script.parentElement;\n",
       "        var grandparent = parent && parent.parentElement;\n",
       "        if (grandparent) {\n",
       "            grandparent.style.display = \"none\";\n",
       "        }\n",
       "        warning_div.style.display = \"none\";\n",
       "    };\n",
       "    if (typeof Jupyter !== \"undefined\") {\n",
       "        console.log(\"WebIO detected Jupyter notebook environment.\");\n",
       "        // Jupyter notebook.\n",
       "        var extensions = (\n",
       "            Jupyter\n",
       "            && Jupyter.notebook.config.data\n",
       "            && Jupyter.notebook.config.data.load_extensions\n",
       "        );\n",
       "        if (extensions && extensions[\"webio-jupyter-notebook\"]) {\n",
       "            // Extension already loaded.\n",
       "            console.log(\"Jupyter WebIO nbextension detected; not loading ad-hoc.\");\n",
       "            hide();\n",
       "            return;\n",
       "        }\n",
       "    } else if (window.location.pathname.includes(\"/lab\")) {\n",
       "        // Guessing JupyterLa\n",
       "        console.log(\"Jupyter Lab detected; make sure the @webio/jupyter-lab-provider labextension is installed.\");\n",
       "        hide();\n",
       "        return;\n",
       "    }\n",
       "})();\n",
       "\n",
       "</script>\n",
       "<p\n",
       "    id=\"webio-warning-17548410990528892050\"\n",
       "    class=\"output_text output_stderr\"\n",
       "    style=\"padding: 1em; font-weight: bold;\"\n",
       ">\n",
       "    Unable to load WebIO. Please make sure WebIO works for your Jupyter client.\n",
       "    For troubleshooting, please see <a href=\"https://juliagizmos.github.io/WebIO.jl/latest/providers/ijulia/\">\n",
       "    the WebIO/IJulia documentation</a>.\n",
       "    <!-- TODO: link to installation docs. -->\n",
       "</p>\n"
      ],
      "text/plain": [
       "HTML{String}(\"<script>\\n// Immediately-invoked-function-expression to avoid global variables.\\n(function() {\\n    var warning_div = document.getElementById(\\\"webio-warning-17548410990528892050\\\");\\n    var hide = function () {\\n        var script = document.getElementById(\\\"webio-setup-16466571860003375651\\\");\\n        var parent = script && script.parentElement;\\n        var grandparent = parent && parent.parentElement;\\n        if (grandparent) {\\n            grandparent.style.display = \\\"none\\\";\\n        }\\n        warning_div.style.display = \\\"none\\\";\\n    };\\n    if (typeof Jupyter !== \\\"undefined\\\") {\\n        console.log(\\\"WebIO detected Jupyter notebook environment.\\\");\\n        // Jupyter notebook.\\n        var extensions = (\\n            Jupyter\\n            && Jupyter.notebook.config.data\\n            && Jupyter.notebook.config.data.load_extensions\\n        );\\n        if (extensions && extensions[\\\"webio-jupyter-notebook\\\"]) {\\n            // Extension already loaded.\\n            console.log(\\\"Jupyter WebIO nbextension detected; not loading ad-hoc.\\\");\\n            hide();\\n            return;\\n        }\\n    } else if (window.location.pathname.includes(\\\"/lab\\\")) {\\n        // Guessing JupyterLa\\n        console.log(\\\"Jupyter Lab detected; make sure the @webio/jupyter-lab-provider labextension is installed.\\\");\\n        hide();\\n        return;\\n    }\\n})();\\n\\n</script>\\n<p\\n    id=\\\"webio-warning-17548410990528892050\\\"\\n    class=\\\"output_text output_stderr\\\"\\n    style=\\\"padding: 1em; font-weight: bold;\\\"\\n>\\n    Unable to load WebIO. Please make sure WebIO works for your Jupyter client.\\n    For troubleshooting, please see <a href=\\\"https://juliagizmos.github.io/WebIO.jl/latest/providers/ijulia/\\\">\\n    the WebIO/IJulia documentation</a>.\\n    <!-- TODO: link to installation docs. -->\\n</p>\\n\")"
      ]
     },
     "metadata": {},
     "output_type": "display_data"
    }
   ],
   "source": [
    "using DatasetManager, C3D, LabDataSources, Biomechanics, Peaks, PlotlyJS, ProgressMeter, DSP, Statistics,\n",
    "    HypothesisTests, GaitSymmetry, DataFrames, Query, PrettyTables, Distributions;"
   ]
  },
  {
   "cell_type": "code",
   "execution_count": 4,
   "metadata": {},
   "outputs": [
    {
     "name": "stdout",
     "output_type": "stream",
     "text": [
      "Subjects:\n",
      " └ 15: 1  2  3  4  5  6  7  8  9  10  11  12  13  14  15\n",
      "Trials:\n",
      " ├ Number of trials: 30\n",
      " └ Number of trials per subject:\n",
      "   └ 2: 15/15 (100%)\n",
      "Conditions:\n",
      " ├ Observed levels:\n",
      " │ └ sym => [\"asym\", \"sym\"]\n",
      " └ Unique level combinations observed: 2 (full factorial)\n",
      "      sym │ # trials\n",
      "    ──────┼──────────\n",
      "     asym │ 15\n",
      "      sym │ 15\n",
      "Sources:\n",
      " └ \"c3d\" => Source{C3DFile}, 30 trials (100%)\n"
     ]
    }
   ],
   "source": [
    "datadir = joinpath(@__DIR__, \"..\", \"data\")\n",
    "subsets = [\n",
    "    DataSubset(\"c3d\", Source{C3DFile}, datadir, \"*.c3d\"),\n",
    "]\n",
    "\n",
    "conds = TrialConditions((:sym,), Dict(:sym => r\"a?sym\"))\n",
    "\n",
    "# Read all perturbations\n",
    "trials = findtrials(subsets, conds; subject_fmt=r\"(?<=S)(?<subject>\\d+)\")\n",
    "summarize(trials)"
   ]
  },
  {
   "cell_type": "code",
   "execution_count": 5,
   "metadata": {},
   "outputs": [
    {
     "data": {
      "text/plain": [
       "heelheight (generic function with 1 method)"
      ]
     },
     "execution_count": 5,
     "metadata": {},
     "output_type": "execute_result"
    }
   ],
   "source": [
    "function heelheight(file::C3DFile; lheelmkr=\"LHEE\", rheelmkr=\"RHEE\", VT=3)\n",
    "    fs = file.groups[:POINT][Int, :RATE]\n",
    "    n = 4\n",
    "    bw2 = Butterworth(n)\n",
    "    corrfac = inv((2^inv(n)-1)^(1/4)) # Correction factor for Fc of multi-pass filters\n",
    "    lpf = Lowpass(15*corrfac; fs)\n",
    "    digfilt = digitalfilter(lpf, bw2)\n",
    "\n",
    "    lheel = file.point[lheelmkr]\n",
    "    rheel = file.point[rheelmkr]\n",
    "\n",
    "    frheel = filtfilt(digfilt, rheel[:,VT])\n",
    "    flheel = filtfilt(digfilt, lheel[:,VT])\n",
    "\n",
    "    return flheel, frheel\n",
    "end"
   ]
  },
  {
   "cell_type": "code",
   "execution_count": 6,
   "metadata": {},
   "outputs": [
    {
     "data": {
      "text/plain": [
       "predictgaitevents (generic function with 1 method)"
      ]
     },
     "execution_count": 6,
     "metadata": {},
     "output_type": "execute_result"
    }
   ],
   "source": [
    "function predictgaitevents(trial)\n",
    "    c3dsrc = readsource(trial, \"c3d\"; strip_prefixes=true)\n",
    "    fs = c3dsrc.groups[:POINT][Int, :RATE]\n",
    "    \n",
    "    lheel, rheel = heelheight(c3dsrc)\n",
    "    lfcpred, _ = peakproms!(argminima(lheel, 10), lheel; minprom=100)\n",
    "    rfcpred, _ = peakproms!(argminima(rheel, 10), rheel; minprom=100)\n",
    "    \n",
    "    lheel_vel = centraldiff(lheel; dt=inv(fs), padding=ForwardBackwardPad())\n",
    "    rheel_vel = centraldiff(rheel; dt=inv(fs), padding=ForwardBackwardPad())\n",
    "    \n",
    "    lfopred, _ = peakproms!(argmaxima(lheel_vel, 10), lheel_vel; minprom=1500)\n",
    "    rfopred, _ = peakproms!(argmaxima(rheel_vel, 10), rheel_vel; minprom=1500)\n",
    "    \n",
    "    return Dict(\"LFC\" => totimes(lfcpred, fs), \"RFC\" => totimes(rfcpred, fs),\n",
    "        \"LFO\" => totimes(lfopred, fs), \"RFO\" => totimes(rfopred, fs))\n",
    "end"
   ]
  },
  {
   "cell_type": "code",
   "execution_count": 7,
   "metadata": {},
   "outputs": [
    {
     "data": {
      "text/plain": [
       "analyze (generic function with 1 method)"
      ]
     },
     "execution_count": 7,
     "metadata": {},
     "output_type": "execute_result"
    }
   ],
   "source": [
    "function analyze(trial)\n",
    "    events = predictgaitevents(trial)\n",
    "\n",
    "    lfc = filter(>(25), events[\"LFC\"])\n",
    "    lfo = filter(>(25), events[\"LFO\"])\n",
    "    rfo = filter(>(25), events[\"RFO\"])\n",
    "    rfc = filter(>(25), events[\"RFC\"])\n",
    "\n",
    "    lswing = swing(lfc, lfo)[1:140]\n",
    "    rswing = swing(rfc, rfo)[1:140]\n",
    "\n",
    "    seg = Segment(trial, \"c3d\")\n",
    "    sr = SegmentResult(seg)\n",
    "    res = results(sr)\n",
    "\n",
    "    res[\"lswing\"] = lswing\n",
    "    res[\"rswing\"] = rswing\n",
    "    res[\"lswing_avg\"] = mean(lswing)*100\n",
    "    res[\"rswing_avg\"] = mean(rswing)*100\n",
    "    res[\"lswing_cov\"] = std(lswing)/mean(lswing)*100\n",
    "    res[\"rswing_cov\"] = std(rswing)/mean(rswing)*100\n",
    "\n",
    "    return sr\n",
    "end"
   ]
  },
  {
   "cell_type": "code",
   "execution_count": 8,
   "metadata": {},
   "outputs": [
    {
     "name": "stdout",
     "output_type": "stream",
     "text": [
      "\u001b[32mAnalyzing trials... 100%|███████████████████████████████| Time: 0:00:11\u001b[39m\n"
     ]
    }
   ],
   "source": [
    "srs = analyzedataset(analyze, trials, Source{C3DFile});"
   ]
  },
  {
   "cell_type": "code",
   "execution_count": 9,
   "metadata": {},
   "outputs": [
    {
     "data": {
      "text/html": [
       "<div class=\"data-frame\"><p>15 rows × 7 columns</p><table class=\"data-frame\"><thead><tr><th></th><th>variable</th><th>mean</th><th>min</th><th>median</th><th>max</th><th>nmissing</th><th>eltype</th></tr><tr><th></th><th title=\"Symbol\">Symbol</th><th title=\"Union{Nothing, Float64}\">Union…</th><th title=\"Any\">Any</th><th title=\"Union{Nothing, Float64}\">Union…</th><th title=\"Any\">Any</th><th title=\"Int64\">Int64</th><th title=\"DataType\">DataType</th></tr></thead><tbody><tr><th>1</th><td>subject</td><td></td><td>1</td><td></td><td>15</td><td>0</td><td>CategoricalValue{Int64, UInt32}</td></tr><tr><th>2</th><td>sym</td><td></td><td>asym</td><td></td><td>sym</td><td>0</td><td>CategoricalValue{String, UInt32}</td></tr><tr><th>3</th><td>lswing_avg</td><td>39.5419</td><td>37.7915</td><td>39.2097</td><td>43.8045</td><td>0</td><td>Float64</td></tr><tr><th>4</th><td>rswing_avg</td><td>37.5397</td><td>34.9171</td><td>38.085</td><td>40.4902</td><td>0</td><td>Float64</td></tr><tr><th>5</th><td>Sel86</td><td>0.951135</td><td>0.802183</td><td>0.957199</td><td>1.04208</td><td>0</td><td>Float64</td></tr><tr><th>6</th><td>Rob87</td><td>-5.22371</td><td>-21.953</td><td>-4.40005</td><td>4.12166</td><td>0</td><td>Float64</td></tr><tr><th>7</th><td>Vag92</td><td>-4.89696</td><td>-19.7817</td><td>-4.28012</td><td>4.03843</td><td>0</td><td>Float64</td></tr><tr><th>8</th><td>Plo05</td><td>-5.23212</td><td>-22.0418</td><td>-4.40136</td><td>4.12224</td><td>0</td><td>Float64</td></tr><tr><th>9</th><td>_abs_Plo05</td><td>6.20251</td><td>0.114162</td><td>5.42232</td><td>22.0418</td><td>0</td><td>Float64</td></tr><tr><th>10</th><td>Zif08</td><td>-1.6601</td><td>-6.96</td><td>-1.40017</td><td>1.31178</td><td>0</td><td>Float64</td></tr><tr><th>11</th><td>Roc14</td><td>-2.00218</td><td>-8.66528</td><td>-1.67373</td><td>1.59108</td><td>0</td><td>Float64</td></tr><tr><th>12</th><td>_abs_Roc14</td><td>2.378</td><td>0.0442687</td><td>2.06913</td><td>8.66528</td><td>0</td><td>Float64</td></tr><tr><th>13</th><td>Que20</td><td>-0.0489696</td><td>-0.197817</td><td>-0.0428012</td><td>0.0403843</td><td>0</td><td>Float64</td></tr><tr><th>14</th><td>Alv20</td><td>-0.026056</td><td>-0.10911</td><td>-0.0219905</td><td>0.0206039</td><td>0</td><td>Float64</td></tr><tr><th>15</th><td>Alv20b</td><td>-0.0250316</td><td>-0.104961</td><td>-0.0211181</td><td>0.0197983</td><td>0</td><td>Float64</td></tr></tbody></table></div>"
      ],
      "text/latex": [
       "\\begin{tabular}{r|ccccccc}\n",
       "\t& variable & mean & min & median & max & nmissing & eltype\\\\\n",
       "\t\\hline\n",
       "\t& Symbol & Union… & Any & Union… & Any & Int64 & DataType\\\\\n",
       "\t\\hline\n",
       "\t1 & subject &  & 1 &  & 15 & 0 & CategoricalValue\\{Int64, UInt32\\} \\\\\n",
       "\t2 & sym &  & asym &  & sym & 0 & CategoricalValue\\{String, UInt32\\} \\\\\n",
       "\t3 & lswing\\_avg & 39.5419 & 37.7915 & 39.2097 & 43.8045 & 0 & Float64 \\\\\n",
       "\t4 & rswing\\_avg & 37.5397 & 34.9171 & 38.085 & 40.4902 & 0 & Float64 \\\\\n",
       "\t5 & Sel86 & 0.951135 & 0.802183 & 0.957199 & 1.04208 & 0 & Float64 \\\\\n",
       "\t6 & Rob87 & -5.22371 & -21.953 & -4.40005 & 4.12166 & 0 & Float64 \\\\\n",
       "\t7 & Vag92 & -4.89696 & -19.7817 & -4.28012 & 4.03843 & 0 & Float64 \\\\\n",
       "\t8 & Plo05 & -5.23212 & -22.0418 & -4.40136 & 4.12224 & 0 & Float64 \\\\\n",
       "\t9 & \\_abs\\_Plo05 & 6.20251 & 0.114162 & 5.42232 & 22.0418 & 0 & Float64 \\\\\n",
       "\t10 & Zif08 & -1.6601 & -6.96 & -1.40017 & 1.31178 & 0 & Float64 \\\\\n",
       "\t11 & Roc14 & -2.00218 & -8.66528 & -1.67373 & 1.59108 & 0 & Float64 \\\\\n",
       "\t12 & \\_abs\\_Roc14 & 2.378 & 0.0442687 & 2.06913 & 8.66528 & 0 & Float64 \\\\\n",
       "\t13 & Que20 & -0.0489696 & -0.197817 & -0.0428012 & 0.0403843 & 0 & Float64 \\\\\n",
       "\t14 & Alv20 & -0.026056 & -0.10911 & -0.0219905 & 0.0206039 & 0 & Float64 \\\\\n",
       "\t15 & Alv20b & -0.0250316 & -0.104961 & -0.0211181 & 0.0197983 & 0 & Float64 \\\\\n",
       "\\end{tabular}\n"
      ],
      "text/plain": [
       "\u001b[1m15×7 DataFrame\u001b[0m\n",
       "\u001b[1m Row \u001b[0m│\u001b[1m variable   \u001b[0m\u001b[1m mean       \u001b[0m\u001b[1m min       \u001b[0m\u001b[1m median     \u001b[0m\u001b[1m max       \u001b[0m\u001b[1m nmissing \u001b[0m\u001b[1m elt\u001b[0m ⋯\n",
       "\u001b[1m     \u001b[0m│\u001b[90m Symbol     \u001b[0m\u001b[90m Union…     \u001b[0m\u001b[90m Any       \u001b[0m\u001b[90m Union…     \u001b[0m\u001b[90m Any       \u001b[0m\u001b[90m Int64    \u001b[0m\u001b[90m Dat\u001b[0m ⋯\n",
       "─────┼──────────────────────────────────────────────────────────────────────────\n",
       "   1 │ subject    \u001b[90m            \u001b[0m 1         \u001b[90m            \u001b[0m 15                0  Cat ⋯\n",
       "   2 │ sym        \u001b[90m            \u001b[0m asym      \u001b[90m            \u001b[0m sym               0  Cat\n",
       "   3 │ lswing_avg  39.5419     37.7915    39.2097     43.8045           0  Flo\n",
       "   4 │ rswing_avg  37.5397     34.9171    38.085      40.4902           0  Flo\n",
       "   5 │ Sel86       0.951135    0.802183   0.957199    1.04208           0  Flo ⋯\n",
       "   6 │ Rob87       -5.22371    -21.953    -4.40005    4.12166           0  Flo\n",
       "   7 │ Vag92       -4.89696    -19.7817   -4.28012    4.03843           0  Flo\n",
       "   8 │ Plo05       -5.23212    -22.0418   -4.40136    4.12224           0  Flo\n",
       "   9 │ _abs_Plo05  6.20251     0.114162   5.42232     22.0418           0  Flo ⋯\n",
       "  10 │ Zif08       -1.6601     -6.96      -1.40017    1.31178           0  Flo\n",
       "  11 │ Roc14       -2.00218    -8.66528   -1.67373    1.59108           0  Flo\n",
       "  12 │ _abs_Roc14  2.378       0.0442687  2.06913     8.66528           0  Flo\n",
       "  13 │ Que20       -0.0489696  -0.197817  -0.0428012  0.0403843         0  Flo ⋯\n",
       "  14 │ Alv20       -0.026056   -0.10911   -0.0219905  0.0206039         0  Flo\n",
       "  15 │ Alv20b      -0.0250316  -0.104961  -0.0211181  0.0197983         0  Flo\n",
       "\u001b[36m                                                                1 column omitted\u001b[0m"
      ]
     },
     "execution_count": 9,
     "metadata": {},
     "output_type": "execute_result"
    }
   ],
   "source": [
    "df = unstack(DatasetManager.stack(srs, conds; variables=(\"lswing_avg\",\"rswing_avg\")))\n",
    "df = disallowmissing(df)\n",
    "metrics = [Sel86, Rob87, Vag92, Plo05, abs(Plo05), Zif08, Roc14, abs(Roc14), Que20, Alv20, Alv20b]\n",
    "for metric in metrics\n",
    "    if metric === Alv20b\n",
    "        df[!,string(metric)] = Alv20.(df[!,\"lswing_avg\"],df[!,\"rswing_avg\"], Ref(sqrt((var(df[!,\"lswing_avg\"]; corrected=false) + var(df[!,\"rswing_avg\"]; corrected=false))/2)))\n",
    "    else\n",
    "        df[!,string(metric)] = metric.(df[!,\"lswing_avg\"],df[!,\"rswing_avg\"])\n",
    "    end\n",
    "end\n",
    "describe(df)"
   ]
  },
  {
   "cell_type": "code",
   "execution_count": 10,
   "metadata": {},
   "outputs": [
    {
     "data": {
      "text/html": [
       "<table>\n",
       "  <tr class = \"header\">\n",
       "    <th style = \"text-align: right;\">sym</th>\n",
       "    <th style = \"text-align: right;\">lswing_avg</th>\n",
       "    <th style = \"text-align: right;\">lswing_std</th>\n",
       "    <th style = \"text-align: right;\">rswing_avg</th>\n",
       "    <th style = \"text-align: right;\">rswing_std</th>\n",
       "    <th style = \"text-align: right;\">ratio</th>\n",
       "    <th style = \"text-align: right;\">ratio_std</th>\n",
       "  </tr>\n",
       "  <tr class = \"subheader headerLastRow\">\n",
       "    <th style = \"text-align: right;\">CategoricalArrays.CategoricalValue{String, UInt32}</th>\n",
       "    <th style = \"text-align: right;\">Float64</th>\n",
       "    <th style = \"text-align: right;\">Float64</th>\n",
       "    <th style = \"text-align: right;\">Float64</th>\n",
       "    <th style = \"text-align: right;\">Float64</th>\n",
       "    <th style = \"text-align: right;\">Float64</th>\n",
       "    <th style = \"text-align: right;\">Float64</th>\n",
       "  </tr>\n",
       "  <tr>\n",
       "    <td style = \"text-align: right;\">sym</td>\n",
       "    <td style = \"text-align: right;\">38.6</td>\n",
       "    <td style = \"text-align: right;\">0.666</td>\n",
       "    <td style = \"text-align: right;\">38.9</td>\n",
       "    <td style = \"text-align: right;\">0.674</td>\n",
       "    <td style = \"text-align: right;\">1.01</td>\n",
       "    <td style = \"text-align: right;\">0.0172</td>\n",
       "  </tr>\n",
       "  <tr>\n",
       "    <td style = \"text-align: right;\">asym</td>\n",
       "    <td style = \"text-align: right;\">40.5</td>\n",
       "    <td style = \"text-align: right;\">1.34</td>\n",
       "    <td style = \"text-align: right;\">36.2</td>\n",
       "    <td style = \"text-align: right;\">1.09</td>\n",
       "    <td style = \"text-align: right;\">1.12</td>\n",
       "    <td style = \"text-align: right;\">0.0331</td>\n",
       "  </tr>\n",
       "</table>\n"
      ]
     },
     "metadata": {},
     "output_type": "display_data"
    }
   ],
   "source": [
    "optinv(x) = x < 1 ? inv(x) : x\n",
    "summarystats = @from t in df begin\n",
    "    @group (;t.lswing_avg, t.rswing_avg) by (;t.sym) into gt\n",
    "    @orderby descending(key(gt).sym)\n",
    "    @select {key(gt).sym, lswing_avg=mean(gt.lswing_avg), lswing_std=std(gt.lswing_avg), rswing_avg=mean(gt.rswing_avg), rswing_std=std(gt.rswing_avg),\n",
    "        ratio=optinv(mean(gt.rswing_avg./mean(gt.lswing_avg))), ratio_std=std(gt.lswing_avg./mean(gt.lswing_avg))}\n",
    "    @collect DataFrame\n",
    "end\n",
    "formatter = (v,i,j) -> !(v isa AbstractFloat) ? v : round(v, sigdigits=3)\n",
    "pretty_table(summarystats; backend=Val(:html), standalone=false, formatters=formatter)"
   ]
  },
  {
   "cell_type": "code",
   "execution_count": 11,
   "metadata": {},
   "outputs": [],
   "source": [
    "grpd_avgs = @from t in df begin\n",
    "    @group (;t.lswing_avg, t.rswing_avg) by (;t.sym) into gt\n",
    "    @select {key(gt).sym, gt.lswing_avg, gt.rswing_avg}\n",
    "    @collect DataFrame\n",
    "end;"
   ]
  },
  {
   "cell_type": "code",
   "execution_count": 12,
   "metadata": {},
   "outputs": [
    {
     "data": {
      "text/plain": [
       "2-element Vector{BartlettTest}:\n",
       " Bartlett's Test for Equality of Covariance Matrices\n",
       "---------------------------------------------------\n",
       "Population details:\n",
       "    parameter of interest:   Equality of covariance matrices\n",
       "    value under h_0:         NaN\n",
       "    point estimate:          NaN\n",
       "\n",
       "Test summary:\n",
       "    outcome with 95% confidence: fail to reject h_0\n",
       "    one-sided p-value:           0.4419\n",
       "\n",
       "Details:\n",
       "    number of observations: (15, 15)\n",
       "    number of variables:    1\n",
       "    χ² statistic:           0.591397\n",
       "    degrees of freedom:     1\n",
       "\n",
       " Bartlett's Test for Equality of Covariance Matrices\n",
       "---------------------------------------------------\n",
       "Population details:\n",
       "    parameter of interest:   Equality of covariance matrices\n",
       "    value under h_0:         NaN\n",
       "    point estimate:          NaN\n",
       "\n",
       "Test summary:\n",
       "    outcome with 95% confidence: fail to reject h_0\n",
       "    one-sided p-value:           0.9634\n",
       "\n",
       "Details:\n",
       "    number of observations: (15, 15)\n",
       "    number of variables:    1\n",
       "    χ² statistic:           0.0021101\n",
       "    degrees of freedom:     1\n"
      ]
     },
     "execution_count": 12,
     "metadata": {},
     "output_type": "execute_result"
    }
   ],
   "source": [
    "BartlettTest.(reshape.(grpd_avgs[!,\"lswing_avg\"], 15, 1), reshape.(grpd_avgs[!,\"rswing_avg\"], 15, 1))"
   ]
  },
  {
   "cell_type": "code",
   "execution_count": 13,
   "metadata": {},
   "outputs": [
    {
     "data": {
      "text/plain": [
       "2-element Vector{OneSampleADTest}:\n",
       " One sample Anderson-Darling test\n",
       "--------------------------------\n",
       "Population details:\n",
       "    parameter of interest:   not implemented yet\n",
       "    value under h_0:         NaN\n",
       "    point estimate:          NaN\n",
       "\n",
       "Test summary:\n",
       "    outcome with 95% confidence: fail to reject h_0\n",
       "    one-sided p-value:           0.4626\n",
       "\n",
       "Details:\n",
       "    number of observations:   15\n",
       "    sample mean:              40.46488770808889\n",
       "    sample SD:                1.3401653900224888\n",
       "    A² statistic:             0.8229699813623393\n",
       "\n",
       " One sample Anderson-Darling test\n",
       "--------------------------------\n",
       "Population details:\n",
       "    parameter of interest:   not implemented yet\n",
       "    value under h_0:         NaN\n",
       "    point estimate:          NaN\n",
       "\n",
       "Test summary:\n",
       "    outcome with 95% confidence: fail to reject h_0\n",
       "    one-sided p-value:           0.8522\n",
       "\n",
       "Details:\n",
       "    number of observations:   15\n",
       "    sample mean:              38.6188570845425\n",
       "    sample SD:                0.6658082105389127\n",
       "    A² statistic:             0.3944137851359789\n"
      ]
     },
     "execution_count": 13,
     "metadata": {},
     "output_type": "execute_result"
    }
   ],
   "source": [
    "OneSampleADTest.(grpd_avgs[!,\"lswing_avg\"], fit.(Normal, grpd_avgs[!,\"lswing_avg\"]))"
   ]
  },
  {
   "cell_type": "code",
   "execution_count": 14,
   "metadata": {},
   "outputs": [
    {
     "data": {
      "text/plain": [
       "2-element Vector{OneSampleADTest}:\n",
       " One sample Anderson-Darling test\n",
       "--------------------------------\n",
       "Population details:\n",
       "    parameter of interest:   not implemented yet\n",
       "    value under h_0:         NaN\n",
       "    point estimate:          NaN\n",
       "\n",
       "Test summary:\n",
       "    outcome with 95% confidence: fail to reject h_0\n",
       "    one-sided p-value:           0.5615\n",
       "\n",
       "Details:\n",
       "    number of observations:   15\n",
       "    sample mean:              36.15907483335835\n",
       "    sample SD:                1.086244706171326\n",
       "    A² statistic:             0.6936855998548672\n",
       "\n",
       " One sample Anderson-Darling test\n",
       "--------------------------------\n",
       "Population details:\n",
       "    parameter of interest:   not implemented yet\n",
       "    value under h_0:         NaN\n",
       "    point estimate:          NaN\n",
       "\n",
       "Test summary:\n",
       "    outcome with 95% confidence: fail to reject h_0\n",
       "    one-sided p-value:           0.5493\n",
       "\n",
       "Details:\n",
       "    number of observations:   15\n",
       "    sample mean:              38.920303767400256\n",
       "    sample SD:                0.6741845998787865\n",
       "    A² statistic:             0.7083237133280716\n"
      ]
     },
     "execution_count": 14,
     "metadata": {},
     "output_type": "execute_result"
    }
   ],
   "source": [
    "OneSampleADTest.(grpd_avgs[!,\"rswing_avg\"], fit.(Normal, grpd_avgs[!,\"rswing_avg\"]))"
   ]
  },
  {
   "cell_type": "code",
   "execution_count": 15,
   "metadata": {},
   "outputs": [],
   "source": [
    "grpd_metrics = @from t in df begin\n",
    "    @orderby t.subject\n",
    "    @group (;t.Sel86, t.Rob87, t.Vag92, t.Plo05, t._abs_Plo05, t.Zif08, t.Roc14, t._abs_Roc14, t.Que20, t.Alv20, t.Alv20b) by (;t.sym) into gt\n",
    "    @orderby key(gt).sym\n",
    "    @select {key(gt).sym, sel86=collect(gt.Sel86), rob87=collect(gt.Rob87), vag92=collect(gt.Vag92), plo05=collect(gt.Plo05), absplo05=collect(gt._abs_Plo05),\n",
    "        zif08=collect(gt.Zif08), roc14=collect(gt.Roc14), absroc14=collect(gt._abs_Roc14), que20=collect(gt.Que20), alv20=collect(gt.Alv20), alv20b=collect(gt.Alv20b)}\n",
    "    @collect DataFrame\n",
    "end;"
   ]
  },
  {
   "cell_type": "code",
   "execution_count": 16,
   "metadata": {},
   "outputs": [
    {
     "data": {
      "text/plain": [
       "CohensD (generic function with 1 method)"
      ]
     },
     "execution_count": 16,
     "metadata": {},
     "output_type": "execute_result"
    }
   ],
   "source": [
    "function CohensD(test::EqualVarianceTTest; unbiased=true)\n",
    "    d = test.t*sqrt(inv(test.n_x) + inv(test.n_y))\n",
    "    if unbiased\n",
    "        d *= 1-(3/(4*test.df-1))\n",
    "    end\n",
    "    \n",
    "    return d\n",
    "end"
   ]
  },
  {
   "cell_type": "code",
   "execution_count": 17,
   "metadata": {},
   "outputs": [],
   "source": [
    "pairedt = Vector{OneSampleTTest}(undef, length(metrics))\n",
    "betweent = Vector{EqualVarianceTTest}(undef, length(metrics))\n",
    "metrics = names(grpd_metrics, Not(\"sym\"))\n",
    "\n",
    "for (i, metric) in enumerate(metrics)\n",
    "    pairedt[i] = OneSampleTTest(only(grpd_metrics[in.(grpd_metrics.sym, Ref([\"asym\"])), metric]), only(grpd_metrics[in.(grpd_metrics.sym, Ref([\"sym\"])), metric]))\n",
    "    betweent[i] = EqualVarianceTTest(only(grpd_metrics[in.(grpd_metrics.sym, Ref([\"asym\"])), metric]), only(grpd_metrics[in.(grpd_metrics.sym, Ref([\"sym\"])), metric]))\n",
    "end"
   ]
  },
  {
   "cell_type": "code",
   "execution_count": 18,
   "metadata": {},
   "outputs": [
    {
     "data": {
      "text/html": [
       "<table>\n",
       "  <tr class = \"header\">\n",
       "    <th style = \"text-align: right;\">metrics</th>\n",
       "    <th style = \"text-align: right;\">xbar</th>\n",
       "    <th style = \"text-align: right;\">ci_low</th>\n",
       "    <th style = \"text-align: right;\">ci_high</th>\n",
       "    <th style = \"text-align: right;\">t</th>\n",
       "    <th style = \"text-align: right;\">d</th>\n",
       "  </tr>\n",
       "  <tr class = \"subheader headerLastRow\">\n",
       "    <th style = \"text-align: right;\">String</th>\n",
       "    <th style = \"text-align: right;\">Float64</th>\n",
       "    <th style = \"text-align: right;\">Float64</th>\n",
       "    <th style = \"text-align: right;\">Float64</th>\n",
       "    <th style = \"text-align: right;\">Float64</th>\n",
       "    <th style = \"text-align: right;\">Float64</th>\n",
       "  </tr>\n",
       "  <tr>\n",
       "    <td style = \"text-align: right;\">sel86</td>\n",
       "    <td style = \"text-align: right;\">-0.114</td>\n",
       "    <td style = \"text-align: right;\">-0.131</td>\n",
       "    <td style = \"text-align: right;\">-0.0963</td>\n",
       "    <td style = \"text-align: right;\">-14.2</td>\n",
       "    <td style = \"text-align: right;\">4.03</td>\n",
       "  </tr>\n",
       "  <tr>\n",
       "    <td style = \"text-align: right;\">rob87</td>\n",
       "    <td style = \"text-align: right;\">-12</td>\n",
       "    <td style = \"text-align: right;\">-14</td>\n",
       "    <td style = \"text-align: right;\">-10</td>\n",
       "    <td style = \"text-align: right;\">-13</td>\n",
       "    <td style = \"text-align: right;\">3.8</td>\n",
       "  </tr>\n",
       "  <tr>\n",
       "    <td style = \"text-align: right;\">vag92</td>\n",
       "    <td style = \"text-align: right;\">-11.3</td>\n",
       "    <td style = \"text-align: right;\">-13.1</td>\n",
       "    <td style = \"text-align: right;\">-9.61</td>\n",
       "    <td style = \"text-align: right;\">-14.1</td>\n",
       "    <td style = \"text-align: right;\">4.03</td>\n",
       "  </tr>\n",
       "  <tr>\n",
       "    <td style = \"text-align: right;\">plo05</td>\n",
       "    <td style = \"text-align: right;\">-12</td>\n",
       "    <td style = \"text-align: right;\">-14</td>\n",
       "    <td style = \"text-align: right;\">-10</td>\n",
       "    <td style = \"text-align: right;\">-12.9</td>\n",
       "    <td style = \"text-align: right;\">3.79</td>\n",
       "  </tr>\n",
       "  <tr>\n",
       "    <td style = \"text-align: right;\">absplo05</td>\n",
       "    <td style = \"text-align: right;\">10.1</td>\n",
       "    <td style = \"text-align: right;\">7.47</td>\n",
       "    <td style = \"text-align: right;\">12.7</td>\n",
       "    <td style = \"text-align: right;\">8.29</td>\n",
       "    <td style = \"text-align: right;\">3.25</td>\n",
       "  </tr>\n",
       "  <tr>\n",
       "    <td style = \"text-align: right;\">zif08</td>\n",
       "    <td style = \"text-align: right;\">-3.82</td>\n",
       "    <td style = \"text-align: right;\">-4.44</td>\n",
       "    <td style = \"text-align: right;\">-3.19</td>\n",
       "    <td style = \"text-align: right;\">-13</td>\n",
       "    <td style = \"text-align: right;\">3.81</td>\n",
       "  </tr>\n",
       "  <tr>\n",
       "    <td style = \"text-align: right;\">roc14</td>\n",
       "    <td style = \"text-align: right;\">-4.61</td>\n",
       "    <td style = \"text-align: right;\">-5.39</td>\n",
       "    <td style = \"text-align: right;\">-3.82</td>\n",
       "    <td style = \"text-align: right;\">-12.6</td>\n",
       "    <td style = \"text-align: right;\">3.71</td>\n",
       "  </tr>\n",
       "  <tr>\n",
       "    <td style = \"text-align: right;\">absroc14</td>\n",
       "    <td style = \"text-align: right;\">3.86</td>\n",
       "    <td style = \"text-align: right;\">2.83</td>\n",
       "    <td style = \"text-align: right;\">4.88</td>\n",
       "    <td style = \"text-align: right;\">8.09</td>\n",
       "    <td style = \"text-align: right;\">3.17</td>\n",
       "  </tr>\n",
       "  <tr>\n",
       "    <td style = \"text-align: right;\">que20</td>\n",
       "    <td style = \"text-align: right;\">-0.113</td>\n",
       "    <td style = \"text-align: right;\">-0.131</td>\n",
       "    <td style = \"text-align: right;\">-0.0961</td>\n",
       "    <td style = \"text-align: right;\">-14.1</td>\n",
       "    <td style = \"text-align: right;\">4.03</td>\n",
       "  </tr>\n",
       "  <tr>\n",
       "    <td style = \"text-align: right;\">alv20</td>\n",
       "    <td style = \"text-align: right;\">-0.0599</td>\n",
       "    <td style = \"text-align: right;\">-0.0697</td>\n",
       "    <td style = \"text-align: right;\">-0.0501</td>\n",
       "    <td style = \"text-align: right;\">-13.1</td>\n",
       "    <td style = \"text-align: right;\">3.82</td>\n",
       "  </tr>\n",
       "  <tr>\n",
       "    <td style = \"text-align: right;\">alv20b</td>\n",
       "    <td style = \"text-align: right;\">-0.0575</td>\n",
       "    <td style = \"text-align: right;\">-0.067</td>\n",
       "    <td style = \"text-align: right;\">-0.0481</td>\n",
       "    <td style = \"text-align: right;\">-13</td>\n",
       "    <td style = \"text-align: right;\">3.82</td>\n",
       "  </tr>\n",
       "</table>\n"
      ]
     },
     "metadata": {},
     "output_type": "display_data"
    }
   ],
   "source": [
    "metrics_stats = DataFrame(metrics = metrics,\n",
    "    xbar = getfield.(pairedt, :xbar), ci_low = get.(confint.(pairedt),1,NaN), ci_high = get.(confint.(pairedt),2,NaN), t = getfield.(pairedt, :t), d = abs.(CohensD.(betweent)))\n",
    "pretty_table(metrics_stats, backend=Val(:html), standalone=false, formatters = ft_printf(\"%.3g\"))"
   ]
  },
  {
   "cell_type": "code",
   "execution_count": null,
   "metadata": {},
   "outputs": [],
   "source": []
  }
 ],
 "metadata": {
  "kernelspec": {
   "display_name": "Julia 8 threads 1.6.0",
   "language": "julia",
   "name": "julia-8-threads-1.6"
  },
  "language_info": {
   "file_extension": ".jl",
   "mimetype": "application/julia",
   "name": "julia",
   "version": "1.6.2"
  }
 },
 "nbformat": 4,
 "nbformat_minor": 4
}
